{
 "cells": [
  {
   "cell_type": "markdown",
   "id": "c5e79a45",
   "metadata": {},
   "source": [
    "# <font color=\"blue\">FINAL PROJECT</font>\n",
    "## <font color=\"blue\">Programing with Python (ISGB-7943-003)</font>\n",
    "## <font color=\"blue\">IPSITA MOULIK</font>"
   ]
  },
  {
   "cell_type": "markdown",
   "id": "a2e0ad7c",
   "metadata": {},
   "source": [
    "### <font color=\"black\">Data Analysis and Visulalization would require importing several libraries in python </font>\n"
   ]
  },
  {
   "cell_type": "code",
   "execution_count": 18,
   "id": "3ee4f5fe",
   "metadata": {},
   "outputs": [],
   "source": [
    "# Imporrting libraries that would be required for Data Analysis and Visualization.\n",
    "import pandas as pd\n",
    "# import matplotlib.pyplot  and seaborn libraries\n",
    "import matplotlib.pyplot as plt\n",
    "# matplotlin inline\n",
    "%matplotlib inline\n",
    "import seaborn as sns\n",
    "\n",
    "# set seaborn options  sns.set()\n",
    "sns.set(palette = \"rainbow\")\n",
    "# import datetime\n",
    "import datetime\n",
    "# import getpass\n",
    "import getpass"
   ]
  },
  {
   "cell_type": "markdown",
   "id": "20bdfe98",
   "metadata": {},
   "source": [
    "# <center> <font color=\"brown\"> PART I </font> "
   ]
  },
  {
   "cell_type": "markdown",
   "id": "618bea5e",
   "metadata": {},
   "source": [
    "### <font color=\"black\">Problem 1 </font>\n",
    "<font color=\"black\"> Analysing, drawing insights and conclusions from the dataset \"birth.xlsx\". The details of this dataset is solely based on the collected data of New York City, NY.</font>"
   ]
  },
  {
   "cell_type": "markdown",
   "id": "f6d10bfc",
   "metadata": {},
   "source": [
    "### <font color=\"blue\">Question 1.1 </font>\n",
    "### <font color=\"black\"> Reading the data for conducting inspection, data cleaning and data reformatting </font>"
   ]
  },
  {
   "cell_type": "code",
   "execution_count": 41,
   "id": "5c2abd16",
   "metadata": {},
   "outputs": [
    {
     "data": {
      "text/html": [
       "<div>\n",
       "<style scoped>\n",
       "    .dataframe tbody tr th:only-of-type {\n",
       "        vertical-align: middle;\n",
       "    }\n",
       "\n",
       "    .dataframe tbody tr th {\n",
       "        vertical-align: top;\n",
       "    }\n",
       "\n",
       "    .dataframe thead th {\n",
       "        text-align: right;\n",
       "    }\n",
       "</style>\n",
       "<table border=\"1\" class=\"dataframe\">\n",
       "  <thead>\n",
       "    <tr style=\"text-align: right;\">\n",
       "      <th></th>\n",
       "      <th>birth_year</th>\n",
       "      <th>gender</th>\n",
       "      <th>ethnicity</th>\n",
       "      <th>first_name</th>\n",
       "      <th>frequency</th>\n",
       "    </tr>\n",
       "  </thead>\n",
       "  <tbody>\n",
       "    <tr>\n",
       "      <th>0</th>\n",
       "      <td>2011</td>\n",
       "      <td>female</td>\n",
       "      <td>hispanic</td>\n",
       "      <td>geraldine</td>\n",
       "      <td>13</td>\n",
       "    </tr>\n",
       "    <tr>\n",
       "      <th>1</th>\n",
       "      <td>2011</td>\n",
       "      <td>female</td>\n",
       "      <td>hispanic</td>\n",
       "      <td>gia</td>\n",
       "      <td>21</td>\n",
       "    </tr>\n",
       "    <tr>\n",
       "      <th>2</th>\n",
       "      <td>2011</td>\n",
       "      <td>female</td>\n",
       "      <td>hispanic</td>\n",
       "      <td>gianna</td>\n",
       "      <td>49</td>\n",
       "    </tr>\n",
       "    <tr>\n",
       "      <th>3</th>\n",
       "      <td>2011</td>\n",
       "      <td>female</td>\n",
       "      <td>hispanic</td>\n",
       "      <td>giselle</td>\n",
       "      <td>38</td>\n",
       "    </tr>\n",
       "    <tr>\n",
       "      <th>4</th>\n",
       "      <td>2011</td>\n",
       "      <td>female</td>\n",
       "      <td>hispanic</td>\n",
       "      <td>grace</td>\n",
       "      <td>36</td>\n",
       "    </tr>\n",
       "    <tr>\n",
       "      <th>5</th>\n",
       "      <td>2011</td>\n",
       "      <td>female</td>\n",
       "      <td>hispanic</td>\n",
       "      <td>guadalupe</td>\n",
       "      <td>26</td>\n",
       "    </tr>\n",
       "    <tr>\n",
       "      <th>6</th>\n",
       "      <td>2011</td>\n",
       "      <td>female</td>\n",
       "      <td>hispanic</td>\n",
       "      <td>hailey</td>\n",
       "      <td>126</td>\n",
       "    </tr>\n",
       "    <tr>\n",
       "      <th>7</th>\n",
       "      <td>2011</td>\n",
       "      <td>female</td>\n",
       "      <td>hispanic</td>\n",
       "      <td>haley</td>\n",
       "      <td>14</td>\n",
       "    </tr>\n",
       "    <tr>\n",
       "      <th>8</th>\n",
       "      <td>2011</td>\n",
       "      <td>female</td>\n",
       "      <td>hispanic</td>\n",
       "      <td>hannah</td>\n",
       "      <td>17</td>\n",
       "    </tr>\n",
       "    <tr>\n",
       "      <th>9</th>\n",
       "      <td>2011</td>\n",
       "      <td>female</td>\n",
       "      <td>hispanic</td>\n",
       "      <td>haylee</td>\n",
       "      <td>17</td>\n",
       "    </tr>\n",
       "  </tbody>\n",
       "</table>\n",
       "</div>"
      ],
      "text/plain": [
       "   birth_year  gender ethnicity first_name  frequency\n",
       "0        2011  female  hispanic  geraldine         13\n",
       "1        2011  female  hispanic        gia         21\n",
       "2        2011  female  hispanic     gianna         49\n",
       "3        2011  female  hispanic    giselle         38\n",
       "4        2011  female  hispanic      grace         36\n",
       "5        2011  female  hispanic  guadalupe         26\n",
       "6        2011  female  hispanic     hailey        126\n",
       "7        2011  female  hispanic      haley         14\n",
       "8        2011  female  hispanic     hannah         17\n",
       "9        2011  female  hispanic     haylee         17"
      ]
     },
     "execution_count": 41,
     "metadata": {},
     "output_type": "execute_result"
    }
   ],
   "source": [
    "# Reading the file and Creating the DF\n",
    "birth = pd.read_excel(\"births.xlsx\")\n",
    "birth.head(10)"
   ]
  },
  {
   "cell_type": "code",
   "execution_count": 3,
   "id": "c0f6871d",
   "metadata": {},
   "outputs": [
    {
     "name": "stdout",
     "output_type": "stream",
     "text": [
      "<class 'pandas.core.frame.DataFrame'>\n",
      "RangeIndex: 37537 entries, 0 to 37536\n",
      "Data columns (total 5 columns):\n",
      " #   Column      Non-Null Count  Dtype \n",
      "---  ------      --------------  ----- \n",
      " 0   birth_year  37537 non-null  int64 \n",
      " 1   gender      37537 non-null  object\n",
      " 2   ethnicity   37537 non-null  object\n",
      " 3   first_name  37537 non-null  object\n",
      " 4   frequency   37537 non-null  int64 \n",
      "dtypes: int64(2), object(3)\n",
      "memory usage: 1.4+ MB\n"
     ]
    }
   ],
   "source": [
    "# Checking the dataset information.\n",
    "birth.info()"
   ]
  },
  {
   "cell_type": "code",
   "execution_count": 4,
   "id": "cd21d6e0",
   "metadata": {},
   "outputs": [
    {
     "data": {
      "text/plain": [
       "birth_year    0\n",
       "gender        0\n",
       "ethnicity     0\n",
       "first_name    0\n",
       "frequency     0\n",
       "dtype: int64"
      ]
     },
     "execution_count": 4,
     "metadata": {},
     "output_type": "execute_result"
    }
   ],
   "source": [
    "# Checking  for missing values in the dataset  \n",
    "birth.isna().sum()"
   ]
  },
  {
   "cell_type": "markdown",
   "id": "245917aa",
   "metadata": {},
   "source": [
    "### <font color=\"blue\"> Summarizing the finding after reading the data set </font>\n",
    "1. **Data Information** \n",
    "    - The data set has a data showing the birth rate in New York city segregated in terms of year, Ethnicity and gender mainly. \n",
    "    -The dataset also consists of the name of the children along with the number of born.\n",
    "\n",
    "\n",
    "2. **Data Set** \n",
    "    - Data Set is fairly clean with no missing values, in python the value  stands for True and 0 stands for False. In the above cell it is observed that the value comes out to 0 for all columns checking for missing values.\n",
    "    - Data Set has  columns namely \tbirth_year\tgender\tethnicity\tfirst_name\tfrequency.  \n",
    "    - Data Set is ready for Analysis and Visualization"
   ]
  },
  {
   "cell_type": "markdown",
   "id": "31932eee",
   "metadata": {},
   "source": [
    "### <font color=\"blue\">Question 1.2 </font>\n",
    "### <font color=\"black\">Total number of babies born reported </font>"
   ]
  },
  {
   "cell_type": "code",
   "execution_count": 13,
   "id": "0ba67a1c",
   "metadata": {},
   "outputs": [
    {
     "data": {
      "text/plain": [
       "1273006"
      ]
     },
     "execution_count": 13,
     "metadata": {},
     "output_type": "execute_result"
    }
   ],
   "source": [
    "# Total Number of babies born that are reported in the dataset.\n",
    "birth.frequency.sum()"
   ]
  },
  {
   "cell_type": "markdown",
   "id": "9bb7197c",
   "metadata": {},
   "source": [
    "- Total number of babies born in the dataset are 1273006 \n"
   ]
  },
  {
   "cell_type": "markdown",
   "id": "227b7d68",
   "metadata": {},
   "source": [
    "### <font color=\"blue\">Question 1.3 </font>\n",
    "### <font color=\"black\">Total number of Male and Female babies born </font>"
   ]
  },
  {
   "cell_type": "code",
   "execution_count": 120,
   "id": "9ff820fb",
   "metadata": {},
   "outputs": [
    {
     "data": {
      "text/plain": [
       "gender\n",
       "female    558728\n",
       "male      714278\n",
       "Name: frequency, dtype: int64"
      ]
     },
     "execution_count": 120,
     "metadata": {},
     "output_type": "execute_result"
    }
   ],
   "source": [
    "# Data showing total number of Male and female babies born\n",
    "birth.groupby(\"gender\").frequency.sum()"
   ]
  },
  {
   "cell_type": "markdown",
   "id": "4d9bb78d",
   "metadata": {},
   "source": [
    "### <font color=\"black\">Visualization of the result - Graph showing the ratio of Male to Female babies born </font>"
   ]
  },
  {
   "cell_type": "code",
   "execution_count": 121,
   "id": "5520b826",
   "metadata": {},
   "outputs": [
    {
     "data": {
      "image/png": "[encoded data removed]",
      "text/plain": [
       "<Figure size 432x288 with 1 Axes>"
      ]
     },
     "metadata": {},
     "output_type": "display_data"
    }
   ],
   "source": [
    "# Visualization of the above result\n",
    "birth.groupby(\"gender\").frequency.sum().plot(kind = \"bar\", title = \"Total Number of Male and Female Babies Born\");"
   ]
  },
  {
   "cell_type": "markdown",
   "id": "94dbeaec",
   "metadata": {},
   "source": [
    "- It is observed that Males babies born are higher than the female babies born.\n",
    "- The report says the following\n",
    "    - Male babies born : 714278\n",
    "    - Female babies born : 558728\n",
    "- The visualization also shows that the male babies holds a higher number than female babies.\n"
   ]
  },
  {
   "cell_type": "markdown",
   "id": "232c7196",
   "metadata": {},
   "source": [
    "### <font color=\"blue\">Question 1.4 </font>\n",
    "### <font color=\"black\">Number of babies born each Year </font>"
   ]
  },
  {
   "cell_type": "code",
   "execution_count": 122,
   "id": "6f756c7d",
   "metadata": {},
   "outputs": [
    {
     "data": {
      "text/plain": [
       "birth_year\n",
       "2011    269829\n",
       "2012    274122\n",
       "2013    262686\n",
       "2014    262634\n",
       "2015     69600\n",
       "2016     68740\n",
       "2017     65395\n",
       "Name: frequency, dtype: int64"
      ]
     },
     "execution_count": 122,
     "metadata": {},
     "output_type": "execute_result"
    }
   ],
   "source": [
    "# Data showing total number of babies born each year\n",
    "birth.groupby(\"birth_year\").frequency.sum()"
   ]
  },
  {
   "cell_type": "markdown",
   "id": "46a77418",
   "metadata": {},
   "source": [
    "### <font color=\"black\">Visualization of the result - Graph showing the number of babies born each year </font>"
   ]
  },
  {
   "cell_type": "code",
   "execution_count": 124,
   "id": "4a60aefe",
   "metadata": {},
   "outputs": [
    {
     "data": {
      "image/png": "[encoded data removed]",
      "text/plain": [
       "<Figure size 432x288 with 1 Axes>"
      ]
     },
     "metadata": {},
     "output_type": "display_data"
    }
   ],
   "source": [
    "# Visualization of the above result\n",
    "birth.groupby(\"birth_year\").frequency.sum().plot(kind = \"bar\", title = \"Total Number of Babies Born each year\");"
   ]
  },
  {
   "cell_type": "markdown",
   "id": "4df37658",
   "metadata": {},
   "source": [
    "- It is observed from the above graph that the number of babies born from 2011 to 2014 is fairly consistent.\n",
    "- There has been a drastic fall in birth rate 2015 onwards, which is less than half compared to the previous years."
   ]
  },
  {
   "cell_type": "markdown",
   "id": "28d501ae",
   "metadata": {},
   "source": [
    "### <font color=\"blue\">Question 1.5 </font>\n",
    "### <font color=\"black\">Number of babies born of each Ethnicity </font>"
   ]
  },
  {
   "cell_type": "code",
   "execution_count": 126,
   "id": "493f45fd",
   "metadata": {},
   "outputs": [
    {
     "data": {
      "text/plain": [
       "ethnicity\n",
       "asian and paci                 40085\n",
       "asian and pacific islander    131935\n",
       "black non hisp                 39426\n",
       "black non hispanic            145804\n",
       "hispanic                      425239\n",
       "white non hisp                103829\n",
       "white non hispanic            386688\n",
       "Name: frequency, dtype: int64"
      ]
     },
     "execution_count": 126,
     "metadata": {},
     "output_type": "execute_result"
    }
   ],
   "source": [
    "# Data showing total number of babies born of each ethnicity\n",
    "birth.groupby(\"ethnicity\").frequency.sum()"
   ]
  },
  {
   "cell_type": "markdown",
   "id": "90096431",
   "metadata": {},
   "source": [
    "### <font color=\"black\">Visualization of the result - Graph showing the number of babies born of each ethnicity </font>"
   ]
  },
  {
   "cell_type": "code",
   "execution_count": 125,
   "id": "e33c73c5",
   "metadata": {},
   "outputs": [
    {
     "data": {
      "image/png": "[encoded data removed]",
      "text/plain": [
       "<Figure size 432x288 with 1 Axes>"
      ]
     },
     "metadata": {},
     "output_type": "display_data"
    }
   ],
   "source": [
    "# Visualization of the above result\n",
    "birth.groupby(\"ethnicity\").frequency.sum().plot(kind = \"bar\", title = \"Total Number of Babies Born of each ethnicity\");"
   ]
  },
  {
   "cell_type": "markdown",
   "id": "614a2ccc",
   "metadata": {},
   "source": [
    "- With respect to the above graph following can be concluded\n",
    "   - White Non Hispanic ranking 1\n",
    "   - Hispanic ranking 2\n",
    "   - Black Non Hispanic ranking 3\n",
    "   - Asian and Pacific Islander ranking 4  \n",
    " #### <font color=\"black\">The above communities are ranked with respect to birth date available in our dataset</font>"
   ]
  },
  {
   "cell_type": "markdown",
   "id": "b112ca1f",
   "metadata": {},
   "source": [
    "### <font color=\"blue\">Question 1.6 </font>\n",
    "### <font color=\"black\">Ten most popular names in the dataset regardless of gender, ethnicity and year </font>"
   ]
  },
  {
   "cell_type": "code",
   "execution_count": 36,
   "id": "01ff23ba",
   "metadata": {},
   "outputs": [
    {
     "data": {
      "text/plain": [
       "first_name\n",
       "ethan       12071\n",
       "jacob       11762\n",
       "jayden      11165\n",
       "daniel      10035\n",
       "matthew      9983\n",
       "david        9920\n",
       "michael      9796\n",
       "sophia       9578\n",
       "isabella     9291\n",
       "aiden        9276\n",
       "Name: frequency, dtype: int64"
      ]
     },
     "execution_count": 36,
     "metadata": {},
     "output_type": "execute_result"
    }
   ],
   "source": [
    "# Ten most popular names in the dataset, regardless of gender, ethnicity and year.\n",
    "birth.groupby(\"first_name\").frequency.sum().sort_values(ascending = False).head(10)"
   ]
  },
  {
   "cell_type": "markdown",
   "id": "c15266c9",
   "metadata": {},
   "source": [
    " #### <font color=\"black\">The most popular names are extracted using groupby function on first_name and then taking the sum of the frequency</font>"
   ]
  },
  {
   "cell_type": "markdown",
   "id": "e2e9e41d",
   "metadata": {},
   "source": [
    "### <font color=\"blue\">Question 1.7 </font>\n",
    "### <font color=\"black\">Ten most popular female names in the dataset regardless of ethnicity and year </font>"
   ]
  },
  {
   "cell_type": "code",
   "execution_count": 42,
   "id": "b116616a",
   "metadata": {},
   "outputs": [
    {
     "data": {
      "text/html": [
       "<div>\n",
       "<style scoped>\n",
       "    .dataframe tbody tr th:only-of-type {\n",
       "        vertical-align: middle;\n",
       "    }\n",
       "\n",
       "    .dataframe tbody tr th {\n",
       "        vertical-align: top;\n",
       "    }\n",
       "\n",
       "    .dataframe thead th {\n",
       "        text-align: right;\n",
       "    }\n",
       "</style>\n",
       "<table border=\"1\" class=\"dataframe\">\n",
       "  <thead>\n",
       "    <tr style=\"text-align: right;\">\n",
       "      <th></th>\n",
       "      <th>birth_year</th>\n",
       "      <th>gender</th>\n",
       "      <th>ethnicity</th>\n",
       "      <th>first_name</th>\n",
       "      <th>frequency</th>\n",
       "    </tr>\n",
       "  </thead>\n",
       "  <tbody>\n",
       "    <tr>\n",
       "      <th>0</th>\n",
       "      <td>2011</td>\n",
       "      <td>female</td>\n",
       "      <td>hispanic</td>\n",
       "      <td>geraldine</td>\n",
       "      <td>13</td>\n",
       "    </tr>\n",
       "    <tr>\n",
       "      <th>1</th>\n",
       "      <td>2011</td>\n",
       "      <td>female</td>\n",
       "      <td>hispanic</td>\n",
       "      <td>gia</td>\n",
       "      <td>21</td>\n",
       "    </tr>\n",
       "    <tr>\n",
       "      <th>2</th>\n",
       "      <td>2011</td>\n",
       "      <td>female</td>\n",
       "      <td>hispanic</td>\n",
       "      <td>gianna</td>\n",
       "      <td>49</td>\n",
       "    </tr>\n",
       "    <tr>\n",
       "      <th>3</th>\n",
       "      <td>2011</td>\n",
       "      <td>female</td>\n",
       "      <td>hispanic</td>\n",
       "      <td>giselle</td>\n",
       "      <td>38</td>\n",
       "    </tr>\n",
       "    <tr>\n",
       "      <th>4</th>\n",
       "      <td>2011</td>\n",
       "      <td>female</td>\n",
       "      <td>hispanic</td>\n",
       "      <td>grace</td>\n",
       "      <td>36</td>\n",
       "    </tr>\n",
       "  </tbody>\n",
       "</table>\n",
       "</div>"
      ],
      "text/plain": [
       "   birth_year  gender ethnicity first_name  frequency\n",
       "0        2011  female  hispanic  geraldine         13\n",
       "1        2011  female  hispanic        gia         21\n",
       "2        2011  female  hispanic     gianna         49\n",
       "3        2011  female  hispanic    giselle         38\n",
       "4        2011  female  hispanic      grace         36"
      ]
     },
     "execution_count": 42,
     "metadata": {},
     "output_type": "execute_result"
    }
   ],
   "source": [
    "# Creating a filter for Female babies\n",
    "baby_filter = (birth.gender == \"female\")\n",
    "baby = birth[baby_filter]\n",
    "baby.head()"
   ]
  },
  {
   "cell_type": "code",
   "execution_count": 46,
   "id": "aee0171e",
   "metadata": {},
   "outputs": [
    {
     "data": {
      "text/plain": [
       "first_name  gender\n",
       "sophia      female    9578\n",
       "isabella    female    9291\n",
       "emma        female    8581\n",
       "olivia      female    8561\n",
       "mia         female    8094\n",
       "emily       female    7691\n",
       "leah        female    6756\n",
       "chloe       female    6201\n",
       "madison     female    6161\n",
       "ava         female    6092\n",
       "Name: frequency, dtype: int64"
      ]
     },
     "execution_count": 46,
     "metadata": {},
     "output_type": "execute_result"
    }
   ],
   "source": [
    "# Using the above created filter to get the 10 most popular female baby names regardless of ethnicity and year.\n",
    "baby.groupby([\"first_name\",\"gender\"]).frequency.sum().sort_values(ascending = False).head(10)"
   ]
  },
  {
   "cell_type": "markdown",
   "id": "025042a2",
   "metadata": {},
   "source": [
    "### <font color=\"black\">Steps followed to extractTen most popular female names in the dataset regardless of ethnicity and year </font>\n",
    "- A filter has been created on the column gender filtering values female\n",
    "- Now the created filter \"baby\" is now used as a dataframe \n",
    "- Groupby function is applied on the column \"first_name\" and \"gender\" on the filtered data frame along with sum function on frequency\n",
    "- Finally the entire expression has been sorted in descending order \n",
    "#### <font color=\"black\">Now we get the most popular 10 female baby names</font>"
   ]
  },
  {
   "cell_type": "markdown",
   "id": "bda2aadf",
   "metadata": {},
   "source": [
    "### <font color=\"blue\">Question 1.8 </font>\n",
    "### <font color=\"black\">Analysing if the popularity of the name (David Beckham) has gone down </font>"
   ]
  },
  {
   "cell_type": "code",
   "execution_count": 82,
   "id": "bf626830",
   "metadata": {},
   "outputs": [
    {
     "data": {
      "text/html": [
       "<div>\n",
       "<style scoped>\n",
       "    .dataframe tbody tr th:only-of-type {\n",
       "        vertical-align: middle;\n",
       "    }\n",
       "\n",
       "    .dataframe tbody tr th {\n",
       "        vertical-align: top;\n",
       "    }\n",
       "\n",
       "    .dataframe thead th {\n",
       "        text-align: right;\n",
       "    }\n",
       "</style>\n",
       "<table border=\"1\" class=\"dataframe\">\n",
       "  <thead>\n",
       "    <tr style=\"text-align: right;\">\n",
       "      <th></th>\n",
       "      <th>birth_year</th>\n",
       "      <th>gender</th>\n",
       "      <th>ethnicity</th>\n",
       "      <th>first_name</th>\n",
       "      <th>frequency</th>\n",
       "    </tr>\n",
       "  </thead>\n",
       "  <tbody>\n",
       "    <tr>\n",
       "      <th>587</th>\n",
       "      <td>2011</td>\n",
       "      <td>male</td>\n",
       "      <td>asian and pacific islander</td>\n",
       "      <td>david</td>\n",
       "      <td>28</td>\n",
       "    </tr>\n",
       "    <tr>\n",
       "      <th>748</th>\n",
       "      <td>2011</td>\n",
       "      <td>male</td>\n",
       "      <td>black non hispanic</td>\n",
       "      <td>david</td>\n",
       "      <td>84</td>\n",
       "    </tr>\n",
       "    <tr>\n",
       "      <th>1720</th>\n",
       "      <td>2011</td>\n",
       "      <td>male</td>\n",
       "      <td>white non hispanic</td>\n",
       "      <td>david</td>\n",
       "      <td>258</td>\n",
       "    </tr>\n",
       "    <tr>\n",
       "      <th>2034</th>\n",
       "      <td>2011</td>\n",
       "      <td>male</td>\n",
       "      <td>asian and pacific islander</td>\n",
       "      <td>david</td>\n",
       "      <td>28</td>\n",
       "    </tr>\n",
       "    <tr>\n",
       "      <th>2195</th>\n",
       "      <td>2011</td>\n",
       "      <td>male</td>\n",
       "      <td>black non hispanic</td>\n",
       "      <td>david</td>\n",
       "      <td>84</td>\n",
       "    </tr>\n",
       "  </tbody>\n",
       "</table>\n",
       "</div>"
      ],
      "text/plain": [
       "      birth_year gender                   ethnicity first_name  frequency\n",
       "587         2011   male  asian and pacific islander      david         28\n",
       "748         2011   male          black non hispanic      david         84\n",
       "1720        2011   male          white non hispanic      david        258\n",
       "2034        2011   male  asian and pacific islander      david         28\n",
       "2195        2011   male          black non hispanic      david         84"
      ]
     },
     "execution_count": 82,
     "metadata": {},
     "output_type": "execute_result"
    }
   ],
   "source": [
    "# Checking if the popularity of the name David Beckham has gone down in the years.\n",
    "# Filtering names david.\n",
    "name_filter = (birth.first_name == \"david\")\n",
    "name = birth[name_filter]\n",
    "name.head()\n"
   ]
  },
  {
   "cell_type": "code",
   "execution_count": 83,
   "id": "c5666039",
   "metadata": {},
   "outputs": [
    {
     "data": {
      "text/plain": [
       "birth_year  first_name\n",
       "2011        david         2014\n",
       "2012        david         2288\n",
       "2013        david         2332\n",
       "2014        david         1758\n",
       "2015        david          545\n",
       "2016        david          476\n",
       "2017        david          507\n",
       "Name: frequency, dtype: int64"
      ]
     },
     "execution_count": 83,
     "metadata": {},
     "output_type": "execute_result"
    }
   ],
   "source": [
    "name.groupby([\"birth_year\",\"first_name\"]).frequency.sum()"
   ]
  },
  {
   "cell_type": "markdown",
   "id": "a6e769f3",
   "metadata": {},
   "source": [
    "### <font color=\"blue\">From the above statistics the following is observed</font>\n",
    "  - The Name David was very popular for three consecutive years 2011,2012 & 2013 and continued to grow more popular\n",
    "  - The name was fairly popular in 2014\n",
    "  - It seems that there was a drastic fall in the popularity of the name David since 2015 asper the dataset\n",
    "### <font color=\"blue\"> However it is observed that the lament of David Beckham is true </font>"
   ]
  },
  {
   "cell_type": "markdown",
   "id": "3fcab87d",
   "metadata": {},
   "source": [
    "### <font color=\"blue\">Question 1.9 </font>\n",
    "### <font color=\"black\">Distinct first name in the database </font>"
   ]
  },
  {
   "cell_type": "code",
   "execution_count": 102,
   "id": "0a3a01f8",
   "metadata": {},
   "outputs": [
    {
     "data": {
      "text/plain": [
       "count     37537\n",
       "unique     1832\n",
       "top       avery\n",
       "freq        108\n",
       "Name: first_name, dtype: object"
      ]
     },
     "execution_count": 102,
     "metadata": {},
     "output_type": "execute_result"
    }
   ],
   "source": [
    "# Count of disctinct names of the first_name in the dataset\n",
    "birth.first_name.describe()"
   ]
  },
  {
   "cell_type": "markdown",
   "id": "d67ba643",
   "metadata": {},
   "source": [
    "### <font color=\"blue\">Steps used to retreive distinct names in the dataframe</font>\n",
    "  - We used the describe method on first name column of the dataset\n",
    "  - Describe method gave us the count, and the number of unique values\n",
    "### <font color=\"blue\"> Observation </font>\n",
    "### <font color=\"blue\"> There are a total of 1832 distinct names in the dataframe which showed up under unique </font>"
   ]
  },
  {
   "cell_type": "markdown",
   "id": "268cd488",
   "metadata": {},
   "source": [
    "### <font color=\"blue\">Question 1.10 </font>\n",
    "### <font color=\"black\">Distinct first name in the database in regard with Male and Female </font>"
   ]
  },
  {
   "cell_type": "code",
   "execution_count": 108,
   "id": "cd126ac8",
   "metadata": {},
   "outputs": [
    {
     "data": {
      "text/html": [
       "<div>\n",
       "<style scoped>\n",
       "    .dataframe tbody tr th:only-of-type {\n",
       "        vertical-align: middle;\n",
       "    }\n",
       "\n",
       "    .dataframe tbody tr th {\n",
       "        vertical-align: top;\n",
       "    }\n",
       "\n",
       "    .dataframe thead th {\n",
       "        text-align: right;\n",
       "    }\n",
       "</style>\n",
       "<table border=\"1\" class=\"dataframe\">\n",
       "  <thead>\n",
       "    <tr style=\"text-align: right;\">\n",
       "      <th></th>\n",
       "      <th>count</th>\n",
       "      <th>unique</th>\n",
       "      <th>top</th>\n",
       "      <th>freq</th>\n",
       "    </tr>\n",
       "    <tr>\n",
       "      <th>gender</th>\n",
       "      <th></th>\n",
       "      <th></th>\n",
       "      <th></th>\n",
       "      <th></th>\n",
       "    </tr>\n",
       "  </thead>\n",
       "  <tbody>\n",
       "    <tr>\n",
       "      <th>female</th>\n",
       "      <td>19199</td>\n",
       "      <td>1011</td>\n",
       "      <td>grace</td>\n",
       "      <td>75</td>\n",
       "    </tr>\n",
       "    <tr>\n",
       "      <th>male</th>\n",
       "      <td>18338</td>\n",
       "      <td>852</td>\n",
       "      <td>kevin</td>\n",
       "      <td>76</td>\n",
       "    </tr>\n",
       "  </tbody>\n",
       "</table>\n",
       "</div>"
      ],
      "text/plain": [
       "        count unique    top freq\n",
       "gender                          \n",
       "female  19199   1011  grace   75\n",
       "male    18338    852  kevin   76"
      ]
     },
     "execution_count": 108,
     "metadata": {},
     "output_type": "execute_result"
    }
   ],
   "source": [
    "# Getting the distinct count of names with regard to Male and Female.\n",
    "birth.groupby(\"gender\").first_name.describe()"
   ]
  },
  {
   "cell_type": "markdown",
   "id": "d535f27a",
   "metadata": {},
   "source": [
    "### <font color=\"blue\">Steps used to retreive distinct names in the dataframe for Males and Females</font>\n",
    "  - We used the describe method on first name column of the dataset and have used groupby on gender\n",
    "  - Describe method gave us the count, and the number of unique values\n",
    "### <font color=\"blue\"> Observation </font>\n",
    "### <font color=\"blue\"> There are a total of 1832 distinct names in the dataframe Out of which unique names for Male and Female are as follows:  </font>\n",
    "#### <font color=\"purple\"> Female - 1011  </font>\n",
    "#### <font color=\"purple\"> Male - 852  </font>"
   ]
  },
  {
   "cell_type": "markdown",
   "id": "38a9b6e8",
   "metadata": {},
   "source": [
    "### <font color=\"blue\">Question 1.11 </font>\n",
    "### <font color=\"black\">Consistency in aswers for Questions 1.9 & 1.10 </font>"
   ]
  },
  {
   "cell_type": "markdown",
   "id": "1d415f53",
   "metadata": {},
   "source": [
    "#### <font color=\"brown\">Answer to Question 1.9</font>\n",
    "  - There are a total of 1832 distinct names as in unique present in the dataset.\n",
    "#### <font color=\"brown\">Answer to Question 1.10</font>\n",
    "  - There are a total of 1832 distinct names as in unique present in the dataset out of which Female unique names holds a total of 1011 and Male unique name holds a total of 852 which sums up to the value of 1832 similar to the answer in question 1.9.\n",
    "### <font color=\"black\">To conclude there is consistency in the results of answers to question 1.9 and 1.10</font>"
   ]
  },
  {
   "cell_type": "markdown",
   "id": "5c10b8a0",
   "metadata": {},
   "source": [
    "### <font color=\"blue\">Question 1.12 </font>\n",
    "### <font color=\"black\">Creation of table showing number of babies born each year with respect to ethnicity </font>"
   ]
  },
  {
   "cell_type": "code",
   "execution_count": 109,
   "id": "184a475f",
   "metadata": {},
   "outputs": [
    {
     "data": {
      "text/html": [
       "<div>\n",
       "<style scoped>\n",
       "    .dataframe tbody tr th:only-of-type {\n",
       "        vertical-align: middle;\n",
       "    }\n",
       "\n",
       "    .dataframe tbody tr th {\n",
       "        vertical-align: top;\n",
       "    }\n",
       "\n",
       "    .dataframe thead th {\n",
       "        text-align: right;\n",
       "    }\n",
       "</style>\n",
       "<table border=\"1\" class=\"dataframe\">\n",
       "  <thead>\n",
       "    <tr style=\"text-align: right;\">\n",
       "      <th>ethnicity</th>\n",
       "      <th>asian and paci</th>\n",
       "      <th>asian and pacific islander</th>\n",
       "      <th>black non hisp</th>\n",
       "      <th>black non hispanic</th>\n",
       "      <th>hispanic</th>\n",
       "      <th>white non hisp</th>\n",
       "      <th>white non hispanic</th>\n",
       "      <th>All</th>\n",
       "    </tr>\n",
       "    <tr>\n",
       "      <th>birth_year</th>\n",
       "      <th></th>\n",
       "      <th></th>\n",
       "      <th></th>\n",
       "      <th></th>\n",
       "      <th></th>\n",
       "      <th></th>\n",
       "      <th></th>\n",
       "      <th></th>\n",
       "    </tr>\n",
       "  </thead>\n",
       "  <tbody>\n",
       "    <tr>\n",
       "      <th>2011</th>\n",
       "      <td>NaN</td>\n",
       "      <td>32217.0</td>\n",
       "      <td>NaN</td>\n",
       "      <td>42045.0</td>\n",
       "      <td>96743.0</td>\n",
       "      <td>NaN</td>\n",
       "      <td>98824.0</td>\n",
       "      <td>269829</td>\n",
       "    </tr>\n",
       "    <tr>\n",
       "      <th>2012</th>\n",
       "      <td>40085.0</td>\n",
       "      <td>NaN</td>\n",
       "      <td>39426.0</td>\n",
       "      <td>NaN</td>\n",
       "      <td>90782.0</td>\n",
       "      <td>103829.0</td>\n",
       "      <td>NaN</td>\n",
       "      <td>274122</td>\n",
       "    </tr>\n",
       "    <tr>\n",
       "      <th>2013</th>\n",
       "      <td>NaN</td>\n",
       "      <td>34760.0</td>\n",
       "      <td>NaN</td>\n",
       "      <td>38548.0</td>\n",
       "      <td>86585.0</td>\n",
       "      <td>NaN</td>\n",
       "      <td>102793.0</td>\n",
       "      <td>262686</td>\n",
       "    </tr>\n",
       "    <tr>\n",
       "      <th>2014</th>\n",
       "      <td>NaN</td>\n",
       "      <td>36536.0</td>\n",
       "      <td>NaN</td>\n",
       "      <td>37728.0</td>\n",
       "      <td>85529.0</td>\n",
       "      <td>NaN</td>\n",
       "      <td>102841.0</td>\n",
       "      <td>262634</td>\n",
       "    </tr>\n",
       "    <tr>\n",
       "      <th>2015</th>\n",
       "      <td>NaN</td>\n",
       "      <td>9584.0</td>\n",
       "      <td>NaN</td>\n",
       "      <td>9637.0</td>\n",
       "      <td>22813.0</td>\n",
       "      <td>NaN</td>\n",
       "      <td>27566.0</td>\n",
       "      <td>69600</td>\n",
       "    </tr>\n",
       "    <tr>\n",
       "      <th>2016</th>\n",
       "      <td>NaN</td>\n",
       "      <td>9973.0</td>\n",
       "      <td>NaN</td>\n",
       "      <td>9147.0</td>\n",
       "      <td>22086.0</td>\n",
       "      <td>NaN</td>\n",
       "      <td>27534.0</td>\n",
       "      <td>68740</td>\n",
       "    </tr>\n",
       "    <tr>\n",
       "      <th>2017</th>\n",
       "      <td>NaN</td>\n",
       "      <td>8865.0</td>\n",
       "      <td>NaN</td>\n",
       "      <td>8699.0</td>\n",
       "      <td>20701.0</td>\n",
       "      <td>NaN</td>\n",
       "      <td>27130.0</td>\n",
       "      <td>65395</td>\n",
       "    </tr>\n",
       "    <tr>\n",
       "      <th>All</th>\n",
       "      <td>40085.0</td>\n",
       "      <td>131935.0</td>\n",
       "      <td>39426.0</td>\n",
       "      <td>145804.0</td>\n",
       "      <td>425239.0</td>\n",
       "      <td>103829.0</td>\n",
       "      <td>386688.0</td>\n",
       "      <td>1273006</td>\n",
       "    </tr>\n",
       "  </tbody>\n",
       "</table>\n",
       "</div>"
      ],
      "text/plain": [
       "ethnicity   asian and paci  asian and pacific islander  black non hisp  \\\n",
       "birth_year                                                               \n",
       "2011                   NaN                     32217.0             NaN   \n",
       "2012               40085.0                         NaN         39426.0   \n",
       "2013                   NaN                     34760.0             NaN   \n",
       "2014                   NaN                     36536.0             NaN   \n",
       "2015                   NaN                      9584.0             NaN   \n",
       "2016                   NaN                      9973.0             NaN   \n",
       "2017                   NaN                      8865.0             NaN   \n",
       "All                40085.0                    131935.0         39426.0   \n",
       "\n",
       "ethnicity   black non hispanic  hispanic  white non hisp  white non hispanic  \\\n",
       "birth_year                                                                     \n",
       "2011                   42045.0   96743.0             NaN             98824.0   \n",
       "2012                       NaN   90782.0        103829.0                 NaN   \n",
       "2013                   38548.0   86585.0             NaN            102793.0   \n",
       "2014                   37728.0   85529.0             NaN            102841.0   \n",
       "2015                    9637.0   22813.0             NaN             27566.0   \n",
       "2016                    9147.0   22086.0             NaN             27534.0   \n",
       "2017                    8699.0   20701.0             NaN             27130.0   \n",
       "All                   145804.0  425239.0        103829.0            386688.0   \n",
       "\n",
       "ethnicity       All  \n",
       "birth_year           \n",
       "2011         269829  \n",
       "2012         274122  \n",
       "2013         262686  \n",
       "2014         262634  \n",
       "2015          69600  \n",
       "2016          68740  \n",
       "2017          65395  \n",
       "All         1273006  "
      ]
     },
     "execution_count": 109,
     "metadata": {},
     "output_type": "execute_result"
    }
   ],
   "source": [
    "#cross tabulate birth_year by ethnicity and then summarize frequency using sum\n",
    "pd.crosstab(birth.birth_year, birth.ethnicity, values=birth.frequency, aggfunc = \"sum\", margins=True)"
   ]
  },
  {
   "cell_type": "markdown",
   "id": "e3f36cfe",
   "metadata": {},
   "source": [
    "### <font color=\"black\">Visualization of the result of cross tabulation </font>"
   ]
  },
  {
   "cell_type": "code",
   "execution_count": 112,
   "id": "ccd1cfba",
   "metadata": {},
   "outputs": [
    {
     "data": {
      "image/png": "[encoded data removed]",
      "text/plain": [
       "<Figure size 432x288 with 1 Axes>"
      ]
     },
     "metadata": {},
     "output_type": "display_data"
    }
   ],
   "source": [
    "# Visulalization of the data through bar graph\n",
    "pd.crosstab(birth.birth_year, birth.ethnicity, values=birth.frequency, aggfunc = \"sum\", margins=True).plot(kind = \"bar\", title = \"Babies born with regard to ethnicity each year\");"
   ]
  },
  {
   "cell_type": "markdown",
   "id": "daabbf66",
   "metadata": {},
   "source": [
    "### <font color=\"blue\">Observation summary drawn from the cross tabulated result</font>\n",
    "  - The white non Hispanic community has the greatest number of births from 2011 to 2017\n",
    "  - The second largest community is the  hispanic from 2011 to 2017\n",
    "  - The black non hispanic community being the third largest from 2011 to 2017 for birth rate\n",
    "  - lastly the asian and pacific islander community being the forth and final largest from 2011 to 2017 for birth rate\n",
    "  - It is also observed that the total number of births from 2011 to 2017 are 1273006\n"
   ]
  },
  {
   "cell_type": "markdown",
   "id": "d9b6f243",
   "metadata": {},
   "source": [
    "### <font color=\"blue\">Question 1.13 </font>\n",
    "### <font color=\"black\">Creation of report for male to female babies born year after year </font>"
   ]
  },
  {
   "cell_type": "code",
   "execution_count": 116,
   "id": "a6a0210b",
   "metadata": {},
   "outputs": [
    {
     "data": {
      "text/html": [
       "<div>\n",
       "<style scoped>\n",
       "    .dataframe tbody tr th:only-of-type {\n",
       "        vertical-align: middle;\n",
       "    }\n",
       "\n",
       "    .dataframe tbody tr th {\n",
       "        vertical-align: top;\n",
       "    }\n",
       "\n",
       "    .dataframe thead th {\n",
       "        text-align: right;\n",
       "    }\n",
       "</style>\n",
       "<table border=\"1\" class=\"dataframe\">\n",
       "  <thead>\n",
       "    <tr style=\"text-align: right;\">\n",
       "      <th>gender</th>\n",
       "      <th>female</th>\n",
       "      <th>male</th>\n",
       "    </tr>\n",
       "    <tr>\n",
       "      <th>birth_year</th>\n",
       "      <th></th>\n",
       "      <th></th>\n",
       "    </tr>\n",
       "  </thead>\n",
       "  <tbody>\n",
       "    <tr>\n",
       "      <th>2011</th>\n",
       "      <td>117700</td>\n",
       "      <td>152129</td>\n",
       "    </tr>\n",
       "    <tr>\n",
       "      <th>2012</th>\n",
       "      <td>119406</td>\n",
       "      <td>154716</td>\n",
       "    </tr>\n",
       "    <tr>\n",
       "      <th>2013</th>\n",
       "      <td>115183</td>\n",
       "      <td>147503</td>\n",
       "    </tr>\n",
       "    <tr>\n",
       "      <th>2014</th>\n",
       "      <td>116590</td>\n",
       "      <td>146044</td>\n",
       "    </tr>\n",
       "    <tr>\n",
       "      <th>2015</th>\n",
       "      <td>30592</td>\n",
       "      <td>39008</td>\n",
       "    </tr>\n",
       "    <tr>\n",
       "      <th>2016</th>\n",
       "      <td>30360</td>\n",
       "      <td>38380</td>\n",
       "    </tr>\n",
       "    <tr>\n",
       "      <th>2017</th>\n",
       "      <td>28897</td>\n",
       "      <td>36498</td>\n",
       "    </tr>\n",
       "  </tbody>\n",
       "</table>\n",
       "</div>"
      ],
      "text/plain": [
       "gender      female    male\n",
       "birth_year                \n",
       "2011        117700  152129\n",
       "2012        119406  154716\n",
       "2013        115183  147503\n",
       "2014        116590  146044\n",
       "2015         30592   39008\n",
       "2016         30360   38380\n",
       "2017         28897   36498"
      ]
     },
     "execution_count": 116,
     "metadata": {},
     "output_type": "execute_result"
    }
   ],
   "source": [
    "#cross tabulate birth_year by gender and then summarize frequency using sum\n",
    "pd.crosstab(birth.birth_year, birth.gender, values=birth.frequency, aggfunc = \"sum\")"
   ]
  },
  {
   "cell_type": "code",
   "execution_count": 115,
   "id": "c1b70201",
   "metadata": {},
   "outputs": [
    {
     "data": {
      "image/png": "[encoded data removed]",
      "text/plain": [
       "<Figure size 432x288 with 1 Axes>"
      ]
     },
     "metadata": {},
     "output_type": "display_data"
    }
   ],
   "source": [
    "# Visulalization of the data through bar graph\n",
    "pd.crosstab(birth.birth_year, birth.gender, values=birth.frequency, aggfunc = \"sum\").plot(kind = \"bar\", title = \"Ratio of Male to Female babies born each year\");"
   ]
  },
  {
   "cell_type": "markdown",
   "id": "6bfa4bc1",
   "metadata": {},
   "source": [
    "### <font color=\"blue\">Observation summary drawn from the report drawn for the Ratio of Male to Female babies born each year</font>\n",
    "### <font color=\"black\">From the above chart Dark blue represents Female and light blue represents Male</font> \n",
    "  - It is clearly seen from the above visualization that begining from 2011 following upto 2017 each year the number of Male babies born are more than the number of Female babies born.\n",
    "  - It is further observed that the birth rate has drastically fallen in the year 2015 compared to the previous years where in the number of Male babies born are still higher than the number of Female babies born.\n"
   ]
  },
  {
   "cell_type": "markdown",
   "id": "88e57456",
   "metadata": {},
   "source": [
    "# <center> <font color=\"brown\"> PART II </font> "
   ]
  },
  {
   "cell_type": "markdown",
   "id": "4591c13b",
   "metadata": {},
   "source": [
    "### <font color=\"black\">Problem 2 </font>\n",
    "<font color=\"black\"> Analyzing / summarizing the price of houses in a community and\n",
    "understand why price varies. from the dataset \"house_prices.xlsx\".</font>"
   ]
  },
  {
   "cell_type": "markdown",
   "id": "dcdb0815",
   "metadata": {},
   "source": [
    "### <font color=\"blue\">Question 2.1 </font>\n",
    "### <font color=\"black\"> Reading the data for conducting inspection, data cleaning and data reformatting </font>\n",
    "    - Summarizing house prices in the community. \n",
    "    - Adding an appropriate chart.\n",
    "    "
   ]
  },
  {
   "cell_type": "code",
   "execution_count": 4,
   "id": "e84c0862",
   "metadata": {},
   "outputs": [
    {
     "data": {
      "text/html": [
       "<div>\n",
       "<style scoped>\n",
       "    .dataframe tbody tr th:only-of-type {\n",
       "        vertical-align: middle;\n",
       "    }\n",
       "\n",
       "    .dataframe tbody tr th {\n",
       "        vertical-align: top;\n",
       "    }\n",
       "\n",
       "    .dataframe thead th {\n",
       "        text-align: right;\n",
       "    }\n",
       "</style>\n",
       "<table border=\"1\" class=\"dataframe\">\n",
       "  <thead>\n",
       "    <tr style=\"text-align: right;\">\n",
       "      <th></th>\n",
       "      <th>address</th>\n",
       "      <th>price</th>\n",
       "      <th>acres</th>\n",
       "      <th>size_sqft</th>\n",
       "      <th>age</th>\n",
       "      <th>rooms</th>\n",
       "      <th>baths</th>\n",
       "      <th>garages</th>\n",
       "    </tr>\n",
       "  </thead>\n",
       "  <tbody>\n",
       "    <tr>\n",
       "      <th>0</th>\n",
       "      <td>9 Sycamore Road</td>\n",
       "      <td>466.00</td>\n",
       "      <td>0.2297</td>\n",
       "      <td>2448</td>\n",
       "      <td>46</td>\n",
       "      <td>7</td>\n",
       "      <td>3.5</td>\n",
       "      <td>2</td>\n",
       "    </tr>\n",
       "    <tr>\n",
       "      <th>1</th>\n",
       "      <td>21 Jefferson St</td>\n",
       "      <td>364.00</td>\n",
       "      <td>0.2192</td>\n",
       "      <td>1942</td>\n",
       "      <td>51</td>\n",
       "      <td>7</td>\n",
       "      <td>2.5</td>\n",
       "      <td>1</td>\n",
       "    </tr>\n",
       "    <tr>\n",
       "      <th>2</th>\n",
       "      <td>38 Hitching Post Lane</td>\n",
       "      <td>429.00</td>\n",
       "      <td>0.1630</td>\n",
       "      <td>2073</td>\n",
       "      <td>29</td>\n",
       "      <td>5</td>\n",
       "      <td>3.0</td>\n",
       "      <td>2</td>\n",
       "    </tr>\n",
       "    <tr>\n",
       "      <th>3</th>\n",
       "      <td>4 Poppy Lane</td>\n",
       "      <td>548.40</td>\n",
       "      <td>0.4608</td>\n",
       "      <td>2707</td>\n",
       "      <td>18</td>\n",
       "      <td>8</td>\n",
       "      <td>2.5</td>\n",
       "      <td>1</td>\n",
       "    </tr>\n",
       "    <tr>\n",
       "      <th>4</th>\n",
       "      <td>5 Daniel Drive</td>\n",
       "      <td>405.90</td>\n",
       "      <td>0.2549</td>\n",
       "      <td>2042</td>\n",
       "      <td>46</td>\n",
       "      <td>7</td>\n",
       "      <td>1.5</td>\n",
       "      <td>1</td>\n",
       "    </tr>\n",
       "    <tr>\n",
       "      <th>5</th>\n",
       "      <td>15 Francis Terrace</td>\n",
       "      <td>374.10</td>\n",
       "      <td>0.2290</td>\n",
       "      <td>2089</td>\n",
       "      <td>88</td>\n",
       "      <td>7</td>\n",
       "      <td>2.0</td>\n",
       "      <td>0</td>\n",
       "    </tr>\n",
       "    <tr>\n",
       "      <th>6</th>\n",
       "      <td>23 Guilfoy Street</td>\n",
       "      <td>315.00</td>\n",
       "      <td>0.1808</td>\n",
       "      <td>1433</td>\n",
       "      <td>48</td>\n",
       "      <td>7</td>\n",
       "      <td>2.0</td>\n",
       "      <td>0</td>\n",
       "    </tr>\n",
       "    <tr>\n",
       "      <th>7</th>\n",
       "      <td>17 Carlyle Drive</td>\n",
       "      <td>749.74</td>\n",
       "      <td>0.5015</td>\n",
       "      <td>2991</td>\n",
       "      <td>7</td>\n",
       "      <td>9</td>\n",
       "      <td>2.5</td>\n",
       "      <td>1</td>\n",
       "    </tr>\n",
       "    <tr>\n",
       "      <th>8</th>\n",
       "      <td>8 Craft Avenue</td>\n",
       "      <td>217.70</td>\n",
       "      <td>0.2229</td>\n",
       "      <td>1008</td>\n",
       "      <td>52</td>\n",
       "      <td>5</td>\n",
       "      <td>1.0</td>\n",
       "      <td>0</td>\n",
       "    </tr>\n",
       "    <tr>\n",
       "      <th>9</th>\n",
       "      <td>22 Beechwood Ct.</td>\n",
       "      <td>635.70</td>\n",
       "      <td>0.1300</td>\n",
       "      <td>3202</td>\n",
       "      <td>15</td>\n",
       "      <td>8</td>\n",
       "      <td>2.5</td>\n",
       "      <td>2</td>\n",
       "    </tr>\n",
       "  </tbody>\n",
       "</table>\n",
       "</div>"
      ],
      "text/plain": [
       "                 address   price   acres  size_sqft  age  rooms  baths  \\\n",
       "0        9 Sycamore Road  466.00  0.2297       2448   46      7    3.5   \n",
       "1        21 Jefferson St  364.00  0.2192       1942   51      7    2.5   \n",
       "2  38 Hitching Post Lane  429.00  0.1630       2073   29      5    3.0   \n",
       "3           4 Poppy Lane  548.40  0.4608       2707   18      8    2.5   \n",
       "4         5 Daniel Drive  405.90  0.2549       2042   46      7    1.5   \n",
       "5     15 Francis Terrace  374.10  0.2290       2089   88      7    2.0   \n",
       "6      23 Guilfoy Street  315.00  0.1808       1433   48      7    2.0   \n",
       "7       17 Carlyle Drive  749.74  0.5015       2991    7      9    2.5   \n",
       "8         8 Craft Avenue  217.70  0.2229       1008   52      5    1.0   \n",
       "9       22 Beechwood Ct.  635.70  0.1300       3202   15      8    2.5   \n",
       "\n",
       "   garages  \n",
       "0        2  \n",
       "1        1  \n",
       "2        2  \n",
       "3        1  \n",
       "4        1  \n",
       "5        0  \n",
       "6        0  \n",
       "7        1  \n",
       "8        0  \n",
       "9        2  "
      ]
     },
     "execution_count": 4,
     "metadata": {},
     "output_type": "execute_result"
    }
   ],
   "source": [
    "# Reading the file and Creating the DF\n",
    "houseprice = pd.read_excel(\"house_prices.xlsx\")\n",
    "houseprice.head(10)"
   ]
  },
  {
   "cell_type": "code",
   "execution_count": 5,
   "id": "d79bfbe2",
   "metadata": {},
   "outputs": [
    {
     "name": "stdout",
     "output_type": "stream",
     "text": [
      "<class 'pandas.core.frame.DataFrame'>\n",
      "RangeIndex: 30 entries, 0 to 29\n",
      "Data columns (total 8 columns):\n",
      " #   Column     Non-Null Count  Dtype  \n",
      "---  ------     --------------  -----  \n",
      " 0   address    30 non-null     object \n",
      " 1   price      30 non-null     float64\n",
      " 2   acres      30 non-null     float64\n",
      " 3   size_sqft  30 non-null     int64  \n",
      " 4   age        30 non-null     int64  \n",
      " 5   rooms      30 non-null     int64  \n",
      " 6   baths      30 non-null     float64\n",
      " 7   garages    30 non-null     int64  \n",
      "dtypes: float64(3), int64(4), object(1)\n",
      "memory usage: 2.0+ KB\n"
     ]
    }
   ],
   "source": [
    "# Checking the dataset information.\n",
    "houseprice.info()"
   ]
  },
  {
   "cell_type": "code",
   "execution_count": 6,
   "id": "950d199e",
   "metadata": {},
   "outputs": [
    {
     "data": {
      "text/plain": [
       "address      0\n",
       "price        0\n",
       "acres        0\n",
       "size_sqft    0\n",
       "age          0\n",
       "rooms        0\n",
       "baths        0\n",
       "garages      0\n",
       "dtype: int64"
      ]
     },
     "execution_count": 6,
     "metadata": {},
     "output_type": "execute_result"
    }
   ],
   "source": [
    "# Checking  for missing values in the dataset  \n",
    "houseprice.isna().sum()"
   ]
  },
  {
   "cell_type": "markdown",
   "id": "5d92f5b7",
   "metadata": {},
   "source": [
    "### <font color=\"blue\"> Summarizing the finding after reading the data set </font>\n",
    "1. **Data Information** \n",
    "    - The data set has a data showing the house prices segregated in terms of year, address,acres,size_sqft,rooms,baths,garages. \n",
    "    -The dataset also consists of the age of the house.\n",
    "\n",
    "\n",
    "2. **Data Set** \n",
    "    - Data Set is fairly clean with no missing values, in python the value  stands for True and 0 stands for False. In the  above cell it is observed that the value comes out to 0 for all columns checking for missing values.\n",
    "    - Data Set is ready for Analysis and Visualization.\n",
    "        "
   ]
  },
  {
   "cell_type": "code",
   "execution_count": 36,
   "id": "01664d80",
   "metadata": {},
   "outputs": [
    {
     "data": {
      "text/plain": [
       "count     30.000000\n",
       "mean     389.849333\n",
       "std      120.388100\n",
       "min      217.700000\n",
       "25%      314.325000\n",
       "50%      363.750000\n",
       "75%      438.525000\n",
       "max      749.740000\n",
       "Name: price, dtype: float64"
      ]
     },
     "execution_count": 36,
     "metadata": {},
     "output_type": "execute_result"
    }
   ],
   "source": [
    "# Summarizing the house price in the community\n",
    "houseprice.price.describe()"
   ]
  },
  {
   "cell_type": "code",
   "execution_count": 47,
   "id": "1d9b1280",
   "metadata": {},
   "outputs": [
    {
     "data": {
      "image/png": "[encoded data removed]",
      "text/plain": [
       "<Figure size 432x288 with 1 Axes>"
      ]
     },
     "metadata": {},
     "output_type": "display_data"
    }
   ],
   "source": [
    "# Visualizing the summary in a chart\n",
    "houseprice.price.describe().plot(kind = \"bar\", title=\"Summary of the Price in a community\");"
   ]
  },
  {
   "cell_type": "markdown",
   "id": "c12ca937",
   "metadata": {},
   "source": [
    "### <font color=\"blue\"> Summary of the finding after using describe function on the data set </font>\n",
    "1. **Price Summary** \n",
    "    - Average house price is 398k\n",
    "    - Minimun house price is 217k\n",
    "    - Maximum house price is 749k\n",
    "    - 25% of the total house prices are 314k\n",
    "    - 50% of the total house prices are 363k\n",
    "    - 75% of the total house prices are 438k\n",
    "    - Standard Deviation of the house prices are 120k"
   ]
  },
  {
   "cell_type": "markdown",
   "id": "e0ebd7cb",
   "metadata": {},
   "source": [
    "### <font color=\"blue\">Question 2.2 </font>\n",
    "### <font color=\"black\"> Creation of Visual to show the variation in house prices, as the number of rooms in the house changes.</font>"
   ]
  },
  {
   "cell_type": "code",
   "execution_count": 28,
   "id": "2bbaed7a",
   "metadata": {},
   "outputs": [
    {
     "data": {
      "image/png": "[encoded data removed]",
      "text/plain": [
       "<Figure size 432x432 with 3 Axes>"
      ]
     },
     "metadata": {},
     "output_type": "display_data"
    }
   ],
   "source": [
    "# Visually exploring the relation of the Price compared to the number of rooms in the house using scatter plot or regression plot.\n",
    "sns.jointplot(data=houseprice, x= \"rooms\", y=\"price\", kind= \"reg\");"
   ]
  },
  {
   "cell_type": "markdown",
   "id": "3243f9dd",
   "metadata": {},
   "source": [
    "### <font color=\"blue\"> Observation from the above Visual </font>\n",
    "1. **Data Information** \n",
    "    - Information regading number of rooms lies on the X-axis. \n",
    "    - Information regarding Price lies on the Y-axis.\n",
    "2. **Summary of Observation**\n",
    "  - It is observed the price of the house has an upward trend when the number of rooms in the house ranges between 6 - 8.\n",
    "  - In general the price of the house is higher when the number of rooms are more than More than 5 and upto 9.\n",
    "  - There is a drop in price as soon as the number of rooms are between 10 - 11."
   ]
  },
  {
   "cell_type": "markdown",
   "id": "dd6284f2",
   "metadata": {},
   "source": [
    "### <font color=\"blue\">Question 2.3 </font>\n",
    "### <font color=\"black\"> Exploring the relation between price and the other attributes of the house.</font>\n"
   ]
  },
  {
   "cell_type": "code",
   "execution_count": 24,
   "id": "95994bdc",
   "metadata": {},
   "outputs": [
    {
     "data": {
      "image/png": "[encoded data removed]",
      "text/plain": [
       "<Figure size 576x288 with 1 Axes>"
      ]
     },
     "metadata": {},
     "output_type": "display_data"
    }
   ],
   "source": [
    "# Using scatterplot for the variable price and acres:\n",
    "houseprice.plot(x=\"price\", y = \"acres\", kind=\"scatter\", figsize=(8,4), color=\"blue\", title =\"Relation between price and acres\" );"
   ]
  },
  {
   "cell_type": "markdown",
   "id": "c3e44076",
   "metadata": {},
   "source": [
    "### <font color=\"blue\"> Observation from the above Visual </font>\n",
    "1. **Data Information** \n",
    "    - Information regading price of rooms lies on the X-axis. \n",
    "    - Information regarding acres lies on the Y-axis.\n",
    "2. **Summary of Observation**\n",
    "  - It is observed the price of the house ranges between 300k -400k when the acres are spreaded accross 0.1-0.3.\n",
    "  - Price range between 400k-500k has acres ranging from 0.15 - 0.45.\n",
    "  - Price range between 600k-700k has extremes like houses with a bit more than 01 acres and houses above 0.6 acres.\n",
    "  - Price range above 700k has 0.5 acres."
   ]
  },
  {
   "cell_type": "code",
   "execution_count": 25,
   "id": "b6b0150b",
   "metadata": {},
   "outputs": [
    {
     "data": {
      "image/png": "[encoded data removed]",
      "text/plain": [
       "<Figure size 432x288 with 1 Axes>"
      ]
     },
     "metadata": {},
     "output_type": "display_data"
    }
   ],
   "source": [
    "# Using Boxplot to compare price and garages\n",
    "sns.boxplot(data=houseprice, x=\"garages\", y = \"price\").set_title (\"Price distribition by garage space\");"
   ]
  },
  {
   "cell_type": "markdown",
   "id": "476a96a2",
   "metadata": {},
   "source": [
    "### <font color=\"blue\"> Observation from the above Visual </font>\n",
    "1. **Data Information** \n",
    "    - Information regading number of garages lies on the X-axis. \n",
    "    - Information regarding Price lies on the Y-axis.\n",
    "2. **Summary of Observation**\n",
    "  - The price of the house ranges between 300k-350k when the number of garages are 0.\n",
    "  - The price of the house ranges between 350k-450k when the number of garages are 1.\n",
    "  - The price of the house ranges between 450k-550k when the number of garages are 2. "
   ]
  },
  {
   "cell_type": "code",
   "execution_count": 26,
   "id": "dafddeb7",
   "metadata": {},
   "outputs": [
    {
     "data": {
      "image/png": "[encoded data removed]",
      "text/plain": [
       "<Figure size 432x432 with 3 Axes>"
      ]
     },
     "metadata": {},
     "output_type": "display_data"
    }
   ],
   "source": [
    "# Using joinplot to compare Price and number of bathrooms in the house.\n",
    "sns.jointplot(data=houseprice, x= \"price\", y=\"baths\", kind= \"reg\");"
   ]
  },
  {
   "cell_type": "markdown",
   "id": "195881b2",
   "metadata": {},
   "source": [
    "### <font color=\"blue\"> Observation from the above Visual </font>\n",
    "1. **Data Information** \n",
    "    - Information regading Price lies on the X-axis. \n",
    "    - Information regarding number of bathrooms lies on the Y-axis.\n",
    "2. **Summary of Observation**\n",
    "  - The Price of the house is 300k-450k when the number of bathrooms are 2\n",
    "  - The Price of the house spreads accross 350k-650k when the number of bathrooms are 2.5.\n",
    "  - The Price of the house spreads accross 250k-450k when the number of bathrooms are 3."
   ]
  },
  {
   "cell_type": "code",
   "execution_count": 30,
   "id": "17a27e52",
   "metadata": {},
   "outputs": [
    {
     "data": {
      "image/png": "[encoded data removed]",
      "text/plain": [
       "<Figure size 576x288 with 1 Axes>"
      ]
     },
     "metadata": {},
     "output_type": "display_data"
    }
   ],
   "source": [
    "# Using scatterplot to compare price and age\n",
    "houseprice.plot(x=\"price\", y = \"age\", kind=\"scatter\", figsize=(8,4), color=\"blue\", title =\"Relation between price and age\" );"
   ]
  },
  {
   "cell_type": "markdown",
   "id": "d9b80a4c",
   "metadata": {},
   "source": [
    "### <font color=\"blue\"> Observation from the above Visual </font>\n",
    "1. **Data Information** \n",
    "    - Information regading Price lies on the X-axis. \n",
    "    - Information regarding age lies on the Y-axis.\n",
    "2. **Summary of Observation**\n",
    "  - With increasing age Price decreases\n",
    "  - With decreading age Price increases\n",
    " "
   ]
  },
  {
   "cell_type": "code",
   "execution_count": 31,
   "id": "1d510683",
   "metadata": {},
   "outputs": [
    {
     "data": {
      "image/png": "[encoded data removed]",
      "text/plain": [
       "<Figure size 576x288 with 1 Axes>"
      ]
     },
     "metadata": {},
     "output_type": "display_data"
    }
   ],
   "source": [
    "# Using scatterplot to compare price and size\n",
    "houseprice.plot(x=\"price\", y = \"size_sqft\", kind=\"scatter\", figsize=(8,4), color=\"blue\", title =\"Relation between price and size_sqft\" );"
   ]
  },
  {
   "cell_type": "markdown",
   "id": "41936f46",
   "metadata": {},
   "source": [
    "### <font color=\"blue\"> Observation from the above Visual </font>\n",
    "1. **Data Information** \n",
    "    - Information regading Price lies on the X-axis. \n",
    "    - Information regarding Size lies on the Y-axis.\n",
    "2. **Summary of Observation**\n",
    "  - Price increases with an increase in price\n",
    "  - Lot of houses are priced between 300k-400k for size spreading accross 1500 - 200 sq_size\n",
    " "
   ]
  },
  {
   "cell_type": "markdown",
   "id": "caa009d5",
   "metadata": {},
   "source": [
    "### <font color=\"green\"> After comparing and drawing insights from all the variables and price it is seen that the strongest attribute having most influence on price are number of rooms, bath and garage space.</font>"
   ]
  },
  {
   "cell_type": "markdown",
   "id": "391ff035",
   "metadata": {},
   "source": [
    "## <font color=\"brown\">Displaying the  userid as well as the time when the code was executed</font>\n"
   ]
  },
  {
   "cell_type": "code",
   "execution_count": 48,
   "id": "e55a9785",
   "metadata": {},
   "outputs": [
    {
     "name": "stdout",
     "output_type": "stream",
     "text": [
      "\n",
      " Finished execution at  2021-12-13 20:57:10.310067\n",
      "hp\n"
     ]
    }
   ],
   "source": [
    "print(\"\\n\", \"Finished execution at \", datetime.datetime.now())\n",
    "print(getpass.getuser())"
   ]
  },
  {
   "cell_type": "code",
   "execution_count": null,
   "id": "967507b6",
   "metadata": {},
   "outputs": [],
   "source": []
  }
 ],
 "metadata": {
  "kernelspec": {
   "display_name": "Python 3",
   "language": "python",
   "name": "python3"
  },
  "language_info": {
   "codemirror_mode": {
    "name": "ipython",
    "version": 3
   },
   "file_extension": ".py",
   "mimetype": "text/x-python",
   "name": "python",
   "nbconvert_exporter": "python",
   "pygments_lexer": "ipython3",
   "version": "3.8.8"
  }
 },
 "nbformat": 4,
 "nbformat_minor": 5
}
